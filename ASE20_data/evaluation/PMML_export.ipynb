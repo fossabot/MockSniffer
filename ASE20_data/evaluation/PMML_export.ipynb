{
 "cells": [
  {
   "cell_type": "code",
   "execution_count": 1,
   "metadata": {},
   "outputs": [],
   "source": [
    "import pandas as pd\n",
    "import numpy as np\n",
    "import matplotlib.pyplot as plt\n",
    "import seaborn as sns\n",
    "from classifier import *\n",
    "from dataloader import *"
   ]
  },
  {
   "cell_type": "code",
   "execution_count": 2,
   "metadata": {},
   "outputs": [],
   "source": [
    "import multiprocessing as mp"
   ]
  },
  {
   "cell_type": "code",
   "execution_count": 3,
   "metadata": {},
   "outputs": [
    {
     "output_type": "execute_result",
     "data": {
      "text/plain": "                                                  TC  \\\n0  org.apache.hadoop.resourceestimator.translator...   \n1  org.apache.hadoop.resourceestimator.translator...   \n2  org.apache.hadoop.resourceestimator.translator...   \n3  org.apache.hadoop.resourceestimator.translator...   \n4  org.apache.hadoop.resourceestimator.translator...   \n\n                          TM  \\\n0       testGetContainerSpec   \n1             testGetJobSize   \n2       testGetRecurrenceeId   \n3  testStringToUnixTimestamp   \n4        testResourceSkyline   \n\n                                                 CUT  \\\n0  org.apache.hadoop.resourceestimator.translator...   \n1  org.apache.hadoop.resourceestimator.translator...   \n2  org.apache.hadoop.resourceestimator.translator...   \n3  org.apache.hadoop.resourceestimator.translator...   \n4  org.apache.hadoop.resourceestimator.translator...   \n\n                                             D     L   ABS    INT    JDK  \\\n0  org.apache.hadoop.yarn.api.records.Resource  real  True  False  False   \n1  org.apache.hadoop.yarn.api.records.Resource  real  True  False  False   \n2  org.apache.hadoop.yarn.api.records.Resource  real  True  False  False   \n3  org.apache.hadoop.yarn.api.records.Resource  real  True  False  False   \n4  org.apache.hadoop.yarn.api.records.Resource  real  True  False  False   \n\n     ICB  DEP  ...  TUAPI   UINT  SYNC  CALLSITES  AFPR  RBFA  EXPCAT  \\\n0  False  0.5  ...    0.0  False   0.0        0.0   0.0   0.0     0.0   \n1  False  0.5  ...    0.0  False   0.0        0.0   0.0   0.0     0.0   \n2  False  0.5  ...    0.0  False   0.0        0.0   0.0   0.0     0.0   \n3  False  0.5  ...    0.0  False   0.0        0.0   0.0   0.0     0.0   \n4  False  0.5  ...    0.0  False   0.0        0.0   0.0   0.0     0.0   \n\n   CONDCALL    PROJ  IS_MOCK  \n0       0.0  Hadoop    False  \n1       0.0  Hadoop    False  \n2       0.0  Hadoop    False  \n3       0.0  Hadoop    False  \n4       0.0  Hadoop    False  \n\n[5 rows x 23 columns]",
      "text/html": "<div>\n<style scoped>\n    .dataframe tbody tr th:only-of-type {\n        vertical-align: middle;\n    }\n\n    .dataframe tbody tr th {\n        vertical-align: top;\n    }\n\n    .dataframe thead th {\n        text-align: right;\n    }\n</style>\n<table border=\"1\" class=\"dataframe\">\n  <thead>\n    <tr style=\"text-align: right;\">\n      <th></th>\n      <th>TC</th>\n      <th>TM</th>\n      <th>CUT</th>\n      <th>D</th>\n      <th>L</th>\n      <th>ABS</th>\n      <th>INT</th>\n      <th>JDK</th>\n      <th>ICB</th>\n      <th>DEP</th>\n      <th>...</th>\n      <th>TUAPI</th>\n      <th>UINT</th>\n      <th>SYNC</th>\n      <th>CALLSITES</th>\n      <th>AFPR</th>\n      <th>RBFA</th>\n      <th>EXPCAT</th>\n      <th>CONDCALL</th>\n      <th>PROJ</th>\n      <th>IS_MOCK</th>\n    </tr>\n  </thead>\n  <tbody>\n    <tr>\n      <th>0</th>\n      <td>org.apache.hadoop.resourceestimator.translator...</td>\n      <td>testGetContainerSpec</td>\n      <td>org.apache.hadoop.resourceestimator.translator...</td>\n      <td>org.apache.hadoop.yarn.api.records.Resource</td>\n      <td>real</td>\n      <td>True</td>\n      <td>False</td>\n      <td>False</td>\n      <td>False</td>\n      <td>0.5</td>\n      <td>...</td>\n      <td>0.0</td>\n      <td>False</td>\n      <td>0.0</td>\n      <td>0.0</td>\n      <td>0.0</td>\n      <td>0.0</td>\n      <td>0.0</td>\n      <td>0.0</td>\n      <td>Hadoop</td>\n      <td>False</td>\n    </tr>\n    <tr>\n      <th>1</th>\n      <td>org.apache.hadoop.resourceestimator.translator...</td>\n      <td>testGetJobSize</td>\n      <td>org.apache.hadoop.resourceestimator.translator...</td>\n      <td>org.apache.hadoop.yarn.api.records.Resource</td>\n      <td>real</td>\n      <td>True</td>\n      <td>False</td>\n      <td>False</td>\n      <td>False</td>\n      <td>0.5</td>\n      <td>...</td>\n      <td>0.0</td>\n      <td>False</td>\n      <td>0.0</td>\n      <td>0.0</td>\n      <td>0.0</td>\n      <td>0.0</td>\n      <td>0.0</td>\n      <td>0.0</td>\n      <td>Hadoop</td>\n      <td>False</td>\n    </tr>\n    <tr>\n      <th>2</th>\n      <td>org.apache.hadoop.resourceestimator.translator...</td>\n      <td>testGetRecurrenceeId</td>\n      <td>org.apache.hadoop.resourceestimator.translator...</td>\n      <td>org.apache.hadoop.yarn.api.records.Resource</td>\n      <td>real</td>\n      <td>True</td>\n      <td>False</td>\n      <td>False</td>\n      <td>False</td>\n      <td>0.5</td>\n      <td>...</td>\n      <td>0.0</td>\n      <td>False</td>\n      <td>0.0</td>\n      <td>0.0</td>\n      <td>0.0</td>\n      <td>0.0</td>\n      <td>0.0</td>\n      <td>0.0</td>\n      <td>Hadoop</td>\n      <td>False</td>\n    </tr>\n    <tr>\n      <th>3</th>\n      <td>org.apache.hadoop.resourceestimator.translator...</td>\n      <td>testStringToUnixTimestamp</td>\n      <td>org.apache.hadoop.resourceestimator.translator...</td>\n      <td>org.apache.hadoop.yarn.api.records.Resource</td>\n      <td>real</td>\n      <td>True</td>\n      <td>False</td>\n      <td>False</td>\n      <td>False</td>\n      <td>0.5</td>\n      <td>...</td>\n      <td>0.0</td>\n      <td>False</td>\n      <td>0.0</td>\n      <td>0.0</td>\n      <td>0.0</td>\n      <td>0.0</td>\n      <td>0.0</td>\n      <td>0.0</td>\n      <td>Hadoop</td>\n      <td>False</td>\n    </tr>\n    <tr>\n      <th>4</th>\n      <td>org.apache.hadoop.resourceestimator.translator...</td>\n      <td>testResourceSkyline</td>\n      <td>org.apache.hadoop.resourceestimator.translator...</td>\n      <td>org.apache.hadoop.yarn.api.records.Resource</td>\n      <td>real</td>\n      <td>True</td>\n      <td>False</td>\n      <td>False</td>\n      <td>False</td>\n      <td>0.5</td>\n      <td>...</td>\n      <td>0.0</td>\n      <td>False</td>\n      <td>0.0</td>\n      <td>0.0</td>\n      <td>0.0</td>\n      <td>0.0</td>\n      <td>0.0</td>\n      <td>0.0</td>\n      <td>Hadoop</td>\n      <td>False</td>\n    </tr>\n  </tbody>\n</table>\n<p>5 rows × 23 columns</p>\n</div>"
     },
     "metadata": {},
     "execution_count": 3
    }
   ],
   "source": [
    "df = get_dataset(data_files,True).drop_duplicates(['TC','TM','D'])\n",
    "df.head()"
   ]
  },
  {
   "cell_type": "code",
   "execution_count": 4,
   "metadata": {},
   "outputs": [
    {
     "output_type": "execute_result",
     "data": {
      "text/plain": "543171"
     },
     "metadata": {},
     "execution_count": 4
    }
   ],
   "source": [
    "df['TC'].count()"
   ]
  },
  {
   "cell_type": "code",
   "execution_count": 5,
   "metadata": {},
   "outputs": [
    {
     "output_type": "execute_result",
     "data": {
      "text/plain": "    PRIOJ   TOTAL   MOCK\n0  Hadoop  323078  13484\n1   Flink   86141   6719\n2    Hive   23368   1490\n3   Camel   12936   1855\n4     CXF   22550   1489\n5   Druid   45332   1869\n6   HBase   11966   1072\n7   Dubbo    8623    758\n8   Oozie    5539    278\n9   Storm    3638    369",
      "text/html": "<div>\n<style scoped>\n    .dataframe tbody tr th:only-of-type {\n        vertical-align: middle;\n    }\n\n    .dataframe tbody tr th {\n        vertical-align: top;\n    }\n\n    .dataframe thead th {\n        text-align: right;\n    }\n</style>\n<table border=\"1\" class=\"dataframe\">\n  <thead>\n    <tr style=\"text-align: right;\">\n      <th></th>\n      <th>PRIOJ</th>\n      <th>TOTAL</th>\n      <th>MOCK</th>\n    </tr>\n  </thead>\n  <tbody>\n    <tr>\n      <th>0</th>\n      <td>Hadoop</td>\n      <td>323078</td>\n      <td>13484</td>\n    </tr>\n    <tr>\n      <th>1</th>\n      <td>Flink</td>\n      <td>86141</td>\n      <td>6719</td>\n    </tr>\n    <tr>\n      <th>2</th>\n      <td>Hive</td>\n      <td>23368</td>\n      <td>1490</td>\n    </tr>\n    <tr>\n      <th>3</th>\n      <td>Camel</td>\n      <td>12936</td>\n      <td>1855</td>\n    </tr>\n    <tr>\n      <th>4</th>\n      <td>CXF</td>\n      <td>22550</td>\n      <td>1489</td>\n    </tr>\n    <tr>\n      <th>5</th>\n      <td>Druid</td>\n      <td>45332</td>\n      <td>1869</td>\n    </tr>\n    <tr>\n      <th>6</th>\n      <td>HBase</td>\n      <td>11966</td>\n      <td>1072</td>\n    </tr>\n    <tr>\n      <th>7</th>\n      <td>Dubbo</td>\n      <td>8623</td>\n      <td>758</td>\n    </tr>\n    <tr>\n      <th>8</th>\n      <td>Oozie</td>\n      <td>5539</td>\n      <td>278</td>\n    </tr>\n    <tr>\n      <th>9</th>\n      <td>Storm</td>\n      <td>3638</td>\n      <td>369</td>\n    </tr>\n  </tbody>\n</table>\n</div>"
     },
     "metadata": {},
     "execution_count": 5
    }
   ],
   "source": [
    "pd.DataFrame([\n",
    "    {\n",
    "        'PRIOJ': p,\n",
    "        'TOTAL': df[(df['PROJ']==p)]['PROJ'].count(),\n",
    "        'MOCK': df[(df['PROJ']==p) & df['IS_MOCK']]['PROJ'].count(),\n",
    "\n",
    "    }\n",
    "    for p in projects\n",
    "])"
   ]
  },
  {
   "cell_type": "code",
   "execution_count": 6,
   "metadata": {
    "scrolled": true
   },
   "outputs": [
    {
     "output_type": "execute_result",
     "data": {
      "text/plain": "'29383 mocks(5.41%)'"
     },
     "metadata": {},
     "execution_count": 6
    }
   ],
   "source": [
    "(\"%d mocks(%.2f%%)\" % (df['IS_MOCK'].sum(), df['IS_MOCK'].sum()/df['IS_MOCK'].count()*100))"
   ]
  },
  {
   "cell_type": "code",
   "execution_count": 7,
   "metadata": {},
   "outputs": [],
   "source": [
    "training_data = df.copy()"
   ]
  },
  {
   "cell_type": "markdown",
   "metadata": {},
   "source": [
    "# Training with balanced dataset"
   ]
  },
  {
   "cell_type": "code",
   "execution_count": 8,
   "metadata": {},
   "outputs": [],
   "source": [
    "def balance_dataset(dataset):\n",
    "    mocked = dataset[dataset['IS_MOCK']]\n",
    "    not_mocked = dataset[dataset['IS_MOCK']==False].sample(n=mocked['TC'].count())\n",
    "    return pd.concat([mocked, not_mocked])"
   ]
  },
  {
   "cell_type": "code",
   "execution_count": 9,
   "metadata": {},
   "outputs": [],
   "source": [
    "train = training_data\n",
    "X_train = train.drop(['CUT', 'IS_MOCK', 'TC', 'TM', 'D', 'L', 'PROJ'], axis=1)\n",
    "y_train = train['IS_MOCK']"
   ]
  },
  {
   "cell_type": "code",
   "execution_count": 10,
   "metadata": {},
   "outputs": [],
   "source": [
    "classifier = get_model()"
   ]
  },
  {
   "cell_type": "code",
   "execution_count": 11,
   "metadata": {},
   "outputs": [],
   "source": [
    "from sklearn2pmml.pipeline import PMMLPipeline\n",
    "from sklearn2pmml import sklearn2pmml\n",
    "\n",
    "pipeline = PMMLPipeline([('GB', classifier)])\n",
    "pipeline.fit(X_train, y_train)\n",
    "\n",
    "sklearn2pmml(pipeline, 'mock-sniffer.pmml')"
   ]
  },
  {
   "cell_type": "code",
   "execution_count": null,
   "metadata": {},
   "outputs": [],
   "source": []
  }
 ],
 "metadata": {
  "kernelspec": {
   "display_name": "Python 3",
   "language": "python",
   "name": "python3"
  },
  "language_info": {
   "codemirror_mode": {
    "name": "ipython",
    "version": 3
   },
   "file_extension": ".py",
   "mimetype": "text/x-python",
   "name": "python",
   "nbconvert_exporter": "python",
   "pygments_lexer": "ipython3",
   "version": "3.8.5-final"
  }
 },
 "nbformat": 4,
 "nbformat_minor": 4
}