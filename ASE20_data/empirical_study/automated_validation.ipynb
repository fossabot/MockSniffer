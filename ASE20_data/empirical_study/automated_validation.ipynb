{
 "cells": [
  {
   "cell_type": "code",
   "execution_count": 1,
   "metadata": {},
   "outputs": [],
   "source": [
    "import pandas as pd\n",
    "import numpy as np\n",
    "from dataloader import *"
   ]
  },
  {
   "cell_type": "code",
   "execution_count": 2,
   "metadata": {},
   "outputs": [],
   "source": [
    "import multiprocessing as mp"
   ]
  },
  {
   "cell_type": "code",
   "execution_count": 3,
   "metadata": {},
   "outputs": [
    {
     "output_type": "execute_result",
     "data": {
      "text/plain": "                                                  TC  \\\n0  org.apache.hadoop.resourceestimator.translator...   \n1  org.apache.hadoop.resourceestimator.translator...   \n2  org.apache.hadoop.resourceestimator.translator...   \n3  org.apache.hadoop.resourceestimator.translator...   \n4  org.apache.hadoop.resourceestimator.translator...   \n\n                          TM  \\\n0       testGetContainerSpec   \n1             testGetJobSize   \n2       testGetRecurrenceeId   \n3  testStringToUnixTimestamp   \n4        testResourceSkyline   \n\n                                                 CUT  \\\n0  org.apache.hadoop.resourceestimator.translator...   \n1  org.apache.hadoop.resourceestimator.translator...   \n2  org.apache.hadoop.resourceestimator.translator...   \n3  org.apache.hadoop.resourceestimator.translator...   \n4  org.apache.hadoop.resourceestimator.translator...   \n\n                                             D     L   ABS    INT    JDK  \\\n0  org.apache.hadoop.yarn.api.records.Resource  real  True  False  False   \n1  org.apache.hadoop.yarn.api.records.Resource  real  True  False  False   \n2  org.apache.hadoop.yarn.api.records.Resource  real  True  False  False   \n3  org.apache.hadoop.yarn.api.records.Resource  real  True  False  False   \n4  org.apache.hadoop.yarn.api.records.Resource  real  True  False  False   \n\n     ICB  DEP  ...  TUAPI   UINT  SYNC  CALLSITES  AFPR  RBFA  EXPCAT  \\\n0  False   15  ...      0  False     0          0     0     0       0   \n1  False   15  ...      0  False     0          0     0     0       0   \n2  False   15  ...      0  False     0          0     0     0       0   \n3  False   15  ...      0  False     0          0     0     0       0   \n4  False   15  ...      0  False     0          0     0     0       0   \n\n   CONDCALL    PROJ  IS_MOCK  \n0         0  Hadoop    False  \n1         0  Hadoop    False  \n2         0  Hadoop    False  \n3         0  Hadoop    False  \n4         0  Hadoop    False  \n\n[5 rows x 23 columns]",
      "text/html": "<div>\n<style scoped>\n    .dataframe tbody tr th:only-of-type {\n        vertical-align: middle;\n    }\n\n    .dataframe tbody tr th {\n        vertical-align: top;\n    }\n\n    .dataframe thead th {\n        text-align: right;\n    }\n</style>\n<table border=\"1\" class=\"dataframe\">\n  <thead>\n    <tr style=\"text-align: right;\">\n      <th></th>\n      <th>TC</th>\n      <th>TM</th>\n      <th>CUT</th>\n      <th>D</th>\n      <th>L</th>\n      <th>ABS</th>\n      <th>INT</th>\n      <th>JDK</th>\n      <th>ICB</th>\n      <th>DEP</th>\n      <th>...</th>\n      <th>TUAPI</th>\n      <th>UINT</th>\n      <th>SYNC</th>\n      <th>CALLSITES</th>\n      <th>AFPR</th>\n      <th>RBFA</th>\n      <th>EXPCAT</th>\n      <th>CONDCALL</th>\n      <th>PROJ</th>\n      <th>IS_MOCK</th>\n    </tr>\n  </thead>\n  <tbody>\n    <tr>\n      <th>0</th>\n      <td>org.apache.hadoop.resourceestimator.translator...</td>\n      <td>testGetContainerSpec</td>\n      <td>org.apache.hadoop.resourceestimator.translator...</td>\n      <td>org.apache.hadoop.yarn.api.records.Resource</td>\n      <td>real</td>\n      <td>True</td>\n      <td>False</td>\n      <td>False</td>\n      <td>False</td>\n      <td>15</td>\n      <td>...</td>\n      <td>0</td>\n      <td>False</td>\n      <td>0</td>\n      <td>0</td>\n      <td>0</td>\n      <td>0</td>\n      <td>0</td>\n      <td>0</td>\n      <td>Hadoop</td>\n      <td>False</td>\n    </tr>\n    <tr>\n      <th>1</th>\n      <td>org.apache.hadoop.resourceestimator.translator...</td>\n      <td>testGetJobSize</td>\n      <td>org.apache.hadoop.resourceestimator.translator...</td>\n      <td>org.apache.hadoop.yarn.api.records.Resource</td>\n      <td>real</td>\n      <td>True</td>\n      <td>False</td>\n      <td>False</td>\n      <td>False</td>\n      <td>15</td>\n      <td>...</td>\n      <td>0</td>\n      <td>False</td>\n      <td>0</td>\n      <td>0</td>\n      <td>0</td>\n      <td>0</td>\n      <td>0</td>\n      <td>0</td>\n      <td>Hadoop</td>\n      <td>False</td>\n    </tr>\n    <tr>\n      <th>2</th>\n      <td>org.apache.hadoop.resourceestimator.translator...</td>\n      <td>testGetRecurrenceeId</td>\n      <td>org.apache.hadoop.resourceestimator.translator...</td>\n      <td>org.apache.hadoop.yarn.api.records.Resource</td>\n      <td>real</td>\n      <td>True</td>\n      <td>False</td>\n      <td>False</td>\n      <td>False</td>\n      <td>15</td>\n      <td>...</td>\n      <td>0</td>\n      <td>False</td>\n      <td>0</td>\n      <td>0</td>\n      <td>0</td>\n      <td>0</td>\n      <td>0</td>\n      <td>0</td>\n      <td>Hadoop</td>\n      <td>False</td>\n    </tr>\n    <tr>\n      <th>3</th>\n      <td>org.apache.hadoop.resourceestimator.translator...</td>\n      <td>testStringToUnixTimestamp</td>\n      <td>org.apache.hadoop.resourceestimator.translator...</td>\n      <td>org.apache.hadoop.yarn.api.records.Resource</td>\n      <td>real</td>\n      <td>True</td>\n      <td>False</td>\n      <td>False</td>\n      <td>False</td>\n      <td>15</td>\n      <td>...</td>\n      <td>0</td>\n      <td>False</td>\n      <td>0</td>\n      <td>0</td>\n      <td>0</td>\n      <td>0</td>\n      <td>0</td>\n      <td>0</td>\n      <td>Hadoop</td>\n      <td>False</td>\n    </tr>\n    <tr>\n      <th>4</th>\n      <td>org.apache.hadoop.resourceestimator.translator...</td>\n      <td>testResourceSkyline</td>\n      <td>org.apache.hadoop.resourceestimator.translator...</td>\n      <td>org.apache.hadoop.yarn.api.records.Resource</td>\n      <td>real</td>\n      <td>True</td>\n      <td>False</td>\n      <td>False</td>\n      <td>False</td>\n      <td>15</td>\n      <td>...</td>\n      <td>0</td>\n      <td>False</td>\n      <td>0</td>\n      <td>0</td>\n      <td>0</td>\n      <td>0</td>\n      <td>0</td>\n      <td>0</td>\n      <td>Hadoop</td>\n      <td>False</td>\n    </tr>\n  </tbody>\n</table>\n<p>5 rows × 23 columns</p>\n</div>"
     },
     "metadata": {},
     "execution_count": 3
    }
   ],
   "source": [
    "empirical_data = load_empirical_study_data()\n",
    "empirical_data.head()"
   ]
  },
  {
   "cell_type": "code",
   "execution_count": 4,
   "metadata": {},
   "outputs": [
    {
     "output_type": "execute_result",
     "data": {
      "text/plain": "353935"
     },
     "metadata": {},
     "execution_count": 4
    }
   ],
   "source": [
    "empirical_data['TC'].count()"
   ]
  },
  {
   "cell_type": "code",
   "execution_count": 5,
   "metadata": {},
   "outputs": [
    {
     "output_type": "execute_result",
     "data": {
      "text/plain": "    PRIOJ   TOTAL   MOCK\n0  Hadoop  325335  14771\n1   Camel   12962   1864\n2   HBase   11990   1093\n3   Storm    3648    377",
      "text/html": "<div>\n<style scoped>\n    .dataframe tbody tr th:only-of-type {\n        vertical-align: middle;\n    }\n\n    .dataframe tbody tr th {\n        vertical-align: top;\n    }\n\n    .dataframe thead th {\n        text-align: right;\n    }\n</style>\n<table border=\"1\" class=\"dataframe\">\n  <thead>\n    <tr style=\"text-align: right;\">\n      <th></th>\n      <th>PRIOJ</th>\n      <th>TOTAL</th>\n      <th>MOCK</th>\n    </tr>\n  </thead>\n  <tbody>\n    <tr>\n      <th>0</th>\n      <td>Hadoop</td>\n      <td>325335</td>\n      <td>14771</td>\n    </tr>\n    <tr>\n      <th>1</th>\n      <td>Camel</td>\n      <td>12962</td>\n      <td>1864</td>\n    </tr>\n    <tr>\n      <th>2</th>\n      <td>HBase</td>\n      <td>11990</td>\n      <td>1093</td>\n    </tr>\n    <tr>\n      <th>3</th>\n      <td>Storm</td>\n      <td>3648</td>\n      <td>377</td>\n    </tr>\n  </tbody>\n</table>\n</div>"
     },
     "metadata": {},
     "execution_count": 5
    }
   ],
   "source": [
    "data_statistics = pd.DataFrame([\n",
    "    {\n",
    "        'PRIOJ': p,\n",
    "        'TOTAL': empirical_data[(empirical_data['PROJ']==p)]['PROJ'].count(),\n",
    "        'MOCK': empirical_data[(empirical_data['PROJ']==p) & empirical_data['IS_MOCK']]['PROJ'].count(),\n",
    "\n",
    "    }\n",
    "    for p in empirical_study_projects\n",
    "])\n",
    "data_statistics"
   ]
  },
  {
   "cell_type": "code",
   "execution_count": 6,
   "metadata": {
    "scrolled": true
   },
   "outputs": [
    {
     "output_type": "execute_result",
     "data": {
      "text/plain": "'18105 mocks(5.12%)'"
     },
     "metadata": {},
     "execution_count": 6
    }
   ],
   "source": [
    "(\"%d mocks(%.2f%%)\" % (empirical_data['IS_MOCK'].sum(), empirical_data['IS_MOCK'].sum()/empirical_data['IS_MOCK'].count()*100))"
   ]
  },
  {
   "cell_type": "code",
   "execution_count": 7,
   "metadata": {},
   "outputs": [],
   "source": [
    "rule_names = [\n",
    "    'Rule 1.1',\n",
    "    'Rule 1.2',\n",
    "    'Rule 1.3',\n",
    "    'Rule 2.1',\n",
    "    'Rule 2.2',\n",
    "    'Rule 3.1',\n",
    "    'Rule 4.1',\n",
    "    'Rule 4.2',\n",
    "    'Rule 5.1',\n",
    "    'Rule 5.2',\n",
    "]"
   ]
  },
  {
   "cell_type": "markdown",
   "metadata": {},
   "source": [
    "## Validation study"
   ]
  },
  {
   "cell_type": "code",
   "execution_count": 8,
   "metadata": {},
   "outputs": [],
   "source": [
    "def calculate_mock_ratio(dataset, cond):\n",
    "    subset = dataset[cond(dataset)]\n",
    "    return {\n",
    "        'Mock Ratio': subset['IS_MOCK'].mean()*100,\n",
    "        'Matches': len(subset),\n",
    "        'Mock': subset['IS_MOCK'].sum()\n",
    "    }"
   ]
  },
  {
   "cell_type": "code",
   "execution_count": 9,
   "metadata": {},
   "outputs": [],
   "source": [
    "rules = {\n",
    "    'Rule 1.1': lambda x: (x['UAPI']+x['TUAPI']) > (x['UAPI']+x['TUAPI']).mean(),\n",
    "    'Rule 1.2': lambda x: x['UINT'],\n",
    "    'Rule 1.3': lambda x: x['SYNC'] > x['SYNC'].mean(),\n",
    "    'Rule 2.1': lambda x: x['FIELD'] > x['FIELD'].mean(),\n",
    "    'Rule 2.2': lambda x: x['TDEP'] > x['TDEP'].mean(),\n",
    "    'Rule 3.1': lambda x: x['INT'] | x['ABS'],\n",
    "    'Rule 4.1': lambda x: x['RBFA'] > 0,\n",
    "    'Rule 4.2': lambda x: x['EXPCAT'] > 0,\n",
    "    'Rule 5.1': lambda x: x['CONDCALL'] > 0,\n",
    "    'Rule 5.2': lambda x: x['AFPR'] > 0,\n",
    "}"
   ]
  },
  {
   "cell_type": "code",
   "execution_count": 12,
   "metadata": {},
   "outputs": [
    {
     "output_type": "execute_result",
     "data": {
      "text/plain": "       Rule  Mock Ratio  Matches   Mock\n0  Rule 1.1        11.8    49789   5874\n1  Rule 1.2         7.4     5669    419\n2  Rule 1.3        13.8    33356   4611\n3  Rule 2.1         8.8    86469   7620\n4  Rule 2.2         7.9   104416   8204\n5  Rule 3.1         8.3   122471  10197\n6  Rule 4.1        10.9    74510   8119\n7  Rule 4.2        12.6    60193   7565\n8  Rule 5.1        12.5    64488   8089\n9  Rule 5.2        11.4    56080   6380",
      "text/html": "<div>\n<style scoped>\n    .dataframe tbody tr th:only-of-type {\n        vertical-align: middle;\n    }\n\n    .dataframe tbody tr th {\n        vertical-align: top;\n    }\n\n    .dataframe thead th {\n        text-align: right;\n    }\n</style>\n<table border=\"1\" class=\"dataframe\">\n  <thead>\n    <tr style=\"text-align: right;\">\n      <th></th>\n      <th>Rule</th>\n      <th>Mock Ratio</th>\n      <th>Matches</th>\n      <th>Mock</th>\n    </tr>\n  </thead>\n  <tbody>\n    <tr>\n      <th>0</th>\n      <td>Rule 1.1</td>\n      <td>11.8</td>\n      <td>49789</td>\n      <td>5874</td>\n    </tr>\n    <tr>\n      <th>1</th>\n      <td>Rule 1.2</td>\n      <td>7.4</td>\n      <td>5669</td>\n      <td>419</td>\n    </tr>\n    <tr>\n      <th>2</th>\n      <td>Rule 1.3</td>\n      <td>13.8</td>\n      <td>33356</td>\n      <td>4611</td>\n    </tr>\n    <tr>\n      <th>3</th>\n      <td>Rule 2.1</td>\n      <td>8.8</td>\n      <td>86469</td>\n      <td>7620</td>\n    </tr>\n    <tr>\n      <th>4</th>\n      <td>Rule 2.2</td>\n      <td>7.9</td>\n      <td>104416</td>\n      <td>8204</td>\n    </tr>\n    <tr>\n      <th>5</th>\n      <td>Rule 3.1</td>\n      <td>8.3</td>\n      <td>122471</td>\n      <td>10197</td>\n    </tr>\n    <tr>\n      <th>6</th>\n      <td>Rule 4.1</td>\n      <td>10.9</td>\n      <td>74510</td>\n      <td>8119</td>\n    </tr>\n    <tr>\n      <th>7</th>\n      <td>Rule 4.2</td>\n      <td>12.6</td>\n      <td>60193</td>\n      <td>7565</td>\n    </tr>\n    <tr>\n      <th>8</th>\n      <td>Rule 5.1</td>\n      <td>12.5</td>\n      <td>64488</td>\n      <td>8089</td>\n    </tr>\n    <tr>\n      <th>9</th>\n      <td>Rule 5.2</td>\n      <td>11.4</td>\n      <td>56080</td>\n      <td>6380</td>\n    </tr>\n  </tbody>\n</table>\n</div>"
     },
     "metadata": {},
     "execution_count": 12
    }
   ],
   "source": [
    "results = [\n",
    "    {\n",
    "        'Rule': r,\n",
    "        **calculate_mock_ratio(empirical_data, rules[r])\n",
    "    }\n",
    "    for r in rule_names\n",
    "]\n",
    "results = pd.DataFrame(results).round({'Mock Ratio': 1})\n",
    "results"
   ]
  },
  {
   "cell_type": "code",
   "execution_count": 31,
   "metadata": {},
   "outputs": [
    {
     "output_type": "execute_result",
     "data": {
      "text/plain": "       Rule Mock Ratio  Matches   Mock     Comp\n0  Rule 1.1      11.8%    49789   5874  +131.4%\n1  Rule 1.2       7.4%     5669    419   +45.1%\n2  Rule 1.3      13.8%    33356   4611  +170.6%\n3  Rule 2.1       8.8%    86469   7620   +72.5%\n4  Rule 2.2       7.9%   104416   8204   +54.9%\n5  Rule 3.1       8.3%   122471  10197   +62.7%\n6  Rule 4.1      10.9%    74510   8119  +113.7%\n7  Rule 4.2      12.6%    60193   7565  +147.1%\n8  Rule 5.1      12.5%    64488   8089  +145.1%\n9  Rule 5.2      11.4%    56080   6380  +123.5%",
      "text/html": "<div>\n<style scoped>\n    .dataframe tbody tr th:only-of-type {\n        vertical-align: middle;\n    }\n\n    .dataframe tbody tr th {\n        vertical-align: top;\n    }\n\n    .dataframe thead th {\n        text-align: right;\n    }\n</style>\n<table border=\"1\" class=\"dataframe\">\n  <thead>\n    <tr style=\"text-align: right;\">\n      <th></th>\n      <th>Rule</th>\n      <th>Mock Ratio</th>\n      <th>Matches</th>\n      <th>Mock</th>\n      <th>Comp</th>\n    </tr>\n  </thead>\n  <tbody>\n    <tr>\n      <th>0</th>\n      <td>Rule 1.1</td>\n      <td>11.8%</td>\n      <td>49789</td>\n      <td>5874</td>\n      <td>+131.4%</td>\n    </tr>\n    <tr>\n      <th>1</th>\n      <td>Rule 1.2</td>\n      <td>7.4%</td>\n      <td>5669</td>\n      <td>419</td>\n      <td>+45.1%</td>\n    </tr>\n    <tr>\n      <th>2</th>\n      <td>Rule 1.3</td>\n      <td>13.8%</td>\n      <td>33356</td>\n      <td>4611</td>\n      <td>+170.6%</td>\n    </tr>\n    <tr>\n      <th>3</th>\n      <td>Rule 2.1</td>\n      <td>8.8%</td>\n      <td>86469</td>\n      <td>7620</td>\n      <td>+72.5%</td>\n    </tr>\n    <tr>\n      <th>4</th>\n      <td>Rule 2.2</td>\n      <td>7.9%</td>\n      <td>104416</td>\n      <td>8204</td>\n      <td>+54.9%</td>\n    </tr>\n    <tr>\n      <th>5</th>\n      <td>Rule 3.1</td>\n      <td>8.3%</td>\n      <td>122471</td>\n      <td>10197</td>\n      <td>+62.7%</td>\n    </tr>\n    <tr>\n      <th>6</th>\n      <td>Rule 4.1</td>\n      <td>10.9%</td>\n      <td>74510</td>\n      <td>8119</td>\n      <td>+113.7%</td>\n    </tr>\n    <tr>\n      <th>7</th>\n      <td>Rule 4.2</td>\n      <td>12.6%</td>\n      <td>60193</td>\n      <td>7565</td>\n      <td>+147.1%</td>\n    </tr>\n    <tr>\n      <th>8</th>\n      <td>Rule 5.1</td>\n      <td>12.5%</td>\n      <td>64488</td>\n      <td>8089</td>\n      <td>+145.1%</td>\n    </tr>\n    <tr>\n      <th>9</th>\n      <td>Rule 5.2</td>\n      <td>11.4%</td>\n      <td>56080</td>\n      <td>6380</td>\n      <td>+123.5%</td>\n    </tr>\n  </tbody>\n</table>\n</div>"
     },
     "metadata": {},
     "execution_count": 31
    }
   ],
   "source": [
    "result_comp = results\n",
    "result_comp['Comp'] = (result_comp['Mock Ratio'] / 5.1 - 1) * 100\n",
    "result_comp = result_comp.round({'Comp': 1})\n",
    "result_comp['Mock Ratio'] = result_comp['Mock Ratio'].apply(lambda it: f\"{it}%\")\n",
    "result_comp['Comp'] = result_comp['Comp'].apply(lambda it: f\"+{it}%\")\n",
    "result_comp"
   ]
  },
  {
   "cell_type": "code",
   "execution_count": 32,
   "metadata": {
    "tags": []
   },
   "outputs": [
    {
     "output_type": "stream",
     "name": "stdout",
     "text": "\\begin{tabular}{llrrll}\n\\toprule\n0 &  Rule 1.1 &   49789 &   5874 &  11.8\\% &  +131.4\\% \\\\\n1 &  Rule 1.2 &    5669 &    419 &   7.4\\% &   +45.1\\% \\\\\n2 &  Rule 1.3 &   33356 &   4611 &  13.8\\% &  +170.6\\% \\\\\n3 &  Rule 2.1 &   86469 &   7620 &   8.8\\% &   +72.5\\% \\\\\n4 &  Rule 2.2 &  104416 &   8204 &   7.9\\% &   +54.9\\% \\\\\n5 &  Rule 3.1 &  122471 &  10197 &   8.3\\% &   +62.7\\% \\\\\n6 &  Rule 4.1 &   74510 &   8119 &  10.9\\% &  +113.7\\% \\\\\n7 &  Rule 4.2 &   60193 &   7565 &  12.6\\% &  +147.1\\% \\\\\n8 &  Rule 5.1 &   64488 &   8089 &  12.5\\% &  +145.1\\% \\\\\n9 &  Rule 5.2 &   56080 &   6380 &  11.4\\% &  +123.5\\% \\\\\n\\bottomrule\n\\end{tabular}\n\n"
    }
   ],
   "source": [
    "print(result_comp[['Rule','Matches','Mock','Mock Ratio','Comp']].to_latex(header=False))"
   ]
  },
  {
   "cell_type": "code",
   "execution_count": null,
   "metadata": {},
   "outputs": [],
   "source": []
  }
 ],
 "metadata": {
  "kernelspec": {
   "display_name": "Python 3.8.3 64-bit ('ds': conda)",
   "language": "python",
   "name": "python_defaultSpec_1598183766437"
  },
  "language_info": {
   "codemirror_mode": {
    "name": "ipython",
    "version": 3
   },
   "file_extension": ".py",
   "mimetype": "text/x-python",
   "name": "python",
   "nbconvert_exporter": "python",
   "pygments_lexer": "ipython3",
   "version": "3.8.5-final"
  }
 },
 "nbformat": 4,
 "nbformat_minor": 4
}